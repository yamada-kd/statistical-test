{
 "cells": [
  {
   "cell_type": "markdown",
   "metadata": {
    "id": "NFZ7251X7o2Z"
   },
   "source": [
    "# 集団の平均値の検定"
   ]
  },
  {
   "cell_type": "markdown",
   "metadata": {
    "id": "rXjy4rvU87II"
   },
   "source": [
    "## 基本概念"
   ]
  },
  {
   "cell_type": "markdown",
   "metadata": {
    "id": "SfcOnNbU883O"
   },
   "source": [
    "## 対応の有無"
   ]
  },
  {
   "cell_type": "markdown",
   "metadata": {
    "id": "HGtCrnqS50_n"
   },
   "source": [
    "## スチューデントのt検定"
   ]
  },
  {
   "cell_type": "markdown",
   "metadata": {
    "id": "Bd37XqVX57jj"
   },
   "source": [
    "## ウェルチのt検定とz検定"
   ]
  }
 ],
 "metadata": {
  "colab": {
   "provenance": [],
   "toc_visible": true
  },
  "kernelspec": {
   "display_name": "Python 3",
   "name": "python3"
  },
  "language_info": {
   "name": "python"
  }
 },
 "nbformat": 4,
 "nbformat_minor": 0
}