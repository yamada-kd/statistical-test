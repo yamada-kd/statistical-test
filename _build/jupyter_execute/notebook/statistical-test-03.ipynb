{
 "cells": [
  {
   "cell_type": "markdown",
   "metadata": {
    "id": "mc2a9odI6YZi"
   },
   "source": [
    "# 統計検定について"
   ]
  },
  {
   "cell_type": "markdown",
   "metadata": {
    "id": "RULQcLG38b8w"
   },
   "source": [
    "## 基本概念"
   ]
  },
  {
   "cell_type": "markdown",
   "metadata": {
    "id": "nKtzmhBA8d-G"
   },
   "source": [
    "## 仮説検定"
   ]
  },
  {
   "cell_type": "markdown",
   "metadata": {
    "id": "BJGH444o8fwE"
   },
   "source": [
    "## 優位水準とp値"
   ]
  }
 ],
 "metadata": {
  "colab": {
   "provenance": [],
   "toc_visible": true
  },
  "kernelspec": {
   "display_name": "Python 3",
   "name": "python3"
  },
  "language_info": {
   "name": "python"
  }
 },
 "nbformat": 4,
 "nbformat_minor": 0
}