{
 "cells": [
  {
   "cell_type": "markdown",
   "metadata": {
    "id": "wGYKf-oU6kQI"
   },
   "source": [
    "# 統計分布について"
   ]
  },
  {
   "cell_type": "markdown",
   "metadata": {
    "id": "8-qb7Kxe8uO2"
   },
   "source": [
    "## データの統計量"
   ]
  },
  {
   "cell_type": "markdown",
   "metadata": {
    "id": "oarP4udt8y0t"
   },
   "source": [
    "## ヒストグラム"
   ]
  },
  {
   "cell_type": "markdown",
   "metadata": {
    "id": "TUExbW2w80i3"
   },
   "source": [
    "## 統計分布"
   ]
  }
 ],
 "metadata": {
  "colab": {
   "provenance": [],
   "toc_visible": true
  },
  "kernelspec": {
   "display_name": "Python 3",
   "name": "python3"
  },
  "language_info": {
   "name": "python"
  }
 },
 "nbformat": 4,
 "nbformat_minor": 0
}