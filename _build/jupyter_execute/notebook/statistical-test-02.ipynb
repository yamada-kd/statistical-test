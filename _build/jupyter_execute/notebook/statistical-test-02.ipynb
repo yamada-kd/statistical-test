{
 "cells": [
  {
   "cell_type": "markdown",
   "metadata": {
    "id": "wGYKf-oU6kQI"
   },
   "source": [
    "# 統計分布について"
   ]
  },
  {
   "cell_type": "markdown",
   "metadata": {
    "id": "8-qb7Kxe8uO2"
   },
   "source": [
    "## データの統計量"
   ]
  },
  {
   "cell_type": "markdown",
   "metadata": {
    "id": "oarP4udt8y0t"
   },
   "source": [
    "## ヒストグラム"
   ]
  },
  {
   "cell_type": "markdown",
   "metadata": {
    "id": "6gqS8M5aYFnz"
   },
   "source": [
    "## 正規分布"
   ]
  },
  {
   "cell_type": "markdown",
   "metadata": {
    "id": "ftRN9iMGYHKR"
   },
   "source": [
    "## データの標準化"
   ]
  },
  {
   "cell_type": "markdown",
   "metadata": {
    "id": "TUExbW2w80i3"
   },
   "source": [
    "## 様々な統計分布"
   ]
  }
 ],
 "metadata": {
  "colab": {
   "provenance": [],
   "toc_visible": true
  },
  "kernelspec": {
   "display_name": "Python 3",
   "name": "python3"
  },
  "language_info": {
   "name": "python"
  }
 },
 "nbformat": 4,
 "nbformat_minor": 0
}