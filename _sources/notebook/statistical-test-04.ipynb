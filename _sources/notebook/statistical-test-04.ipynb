{
  "nbformat": 4,
  "nbformat_minor": 0,
  "metadata": {
    "colab": {
      "provenance": [],
      "toc_visible": true
    },
    "kernelspec": {
      "name": "python3",
      "display_name": "Python 3"
    },
    "language_info": {
      "name": "python"
    }
  },
  "cells": [
    {
      "cell_type": "markdown",
      "source": [
        "# 集団の平均値の検定"
      ],
      "metadata": {
        "id": "NFZ7251X7o2Z"
      }
    },
    {
      "cell_type": "markdown",
      "source": [
        "## 基本概念"
      ],
      "metadata": {
        "id": "rXjy4rvU87II"
      }
    },
    {
      "cell_type": "markdown",
      "source": [
        "## スチューデントのt検定"
      ],
      "metadata": {
        "id": "HGtCrnqS50_n"
      }
    },
    {
      "cell_type": "markdown",
      "source": [
        "## 対応の有無"
      ],
      "metadata": {
        "id": "SfcOnNbU883O"
      }
    },
    {
      "cell_type": "markdown",
      "source": [
        "## ウェルチのt検定とz検定"
      ],
      "metadata": {
        "id": "Bd37XqVX57jj"
      }
    }
  ]
}