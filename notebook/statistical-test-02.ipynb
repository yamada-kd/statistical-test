{
  "nbformat": 4,
  "nbformat_minor": 0,
  "metadata": {
    "colab": {
      "provenance": [],
      "toc_visible": true
    },
    "kernelspec": {
      "name": "python3",
      "display_name": "Python 3"
    },
    "language_info": {
      "name": "python"
    }
  },
  "cells": [
    {
      "cell_type": "markdown",
      "source": [
        "# 統計分布について"
      ],
      "metadata": {
        "id": "wGYKf-oU6kQI"
      }
    },
    {
      "cell_type": "markdown",
      "source": [
        "## データの統計量"
      ],
      "metadata": {
        "id": "8-qb7Kxe8uO2"
      }
    },
    {
      "cell_type": "markdown",
      "source": [
        "## ヒストグラム"
      ],
      "metadata": {
        "id": "oarP4udt8y0t"
      }
    },
    {
      "cell_type": "markdown",
      "source": [
        "## 統計分布"
      ],
      "metadata": {
        "id": "TUExbW2w80i3"
      }
    }
  ]
}